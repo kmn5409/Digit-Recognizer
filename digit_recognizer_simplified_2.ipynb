{
 "cells": [
  {
   "cell_type": "code",
   "execution_count": 4,
   "metadata": {
    "collapsed": true
   },
   "outputs": [],
   "source": [
    "# Plot ad hoc mnist instances\n",
    "import pandas as pd\n",
    "import matplotlib.pyplot as plt\n",
    "from numpy import genfromtxt\n",
    "import numpy as np\n",
    "import pandas as pd\n",
    "import time\n",
    "import random\n",
    "import math"
   ]
  },
  {
   "cell_type": "code",
   "execution_count": 5,
   "metadata": {
    "collapsed": true,
    "scrolled": true
   },
   "outputs": [],
   "source": [
    "# load (downloaded if needed) the MNIST dataset\n",
    "train = pd.read_csv('./datasets/train.csv')\n",
    "test = pd.read_csv('./datasets/test.csv')\n",
    "#y_train = np.array(df['label'].values)\n",
    "#print(y_train)\n",
    "k = 0\n",
    "X_train = (train.iloc[:,1:].values.astype('float32'))\n",
    "y_train = (train.iloc[:,0].values.astype('int32'))\n",
    "y_train = np.tile(y_train, (1, 1))\n",
    "X_test = test.values.astype('float32')\n",
    "# X_train = X_train.reshape(X_train.shape[0], 28, 28)\n",
    "#net = NeuralNet([784, 30, 10])\n"
   ]
  },
  {
   "cell_type": "code",
   "execution_count": 6,
   "metadata": {},
   "outputs": [
    {
     "name": "stdout",
     "output_type": "stream",
     "text": [
      "784\n"
     ]
    }
   ],
   "source": [
    "print(X_train.shape[1])"
   ]
  },
  {
   "cell_type": "code",
   "execution_count": 36,
   "metadata": {},
   "outputs": [],
   "source": [
    "class Neural_Network:\n",
    "    def __init__(self):\n",
    "        self.m = X_train.shape[0]\n",
    "        self.input_layer_size = X_train.shape[1]\n",
    "        self.hidden_layer_size = 25\n",
    "        self.output_layer_size = 10\n",
    "        self.epsilon = []\n",
    "        self.theta1 = []\n",
    "        self.theta2 = []\n",
    "        self.J = 0\n",
    "        self.grad = 0\n",
    "        self.num_labels = 10\n",
    "        \n",
    "        \n",
    "    def randInit(self):\n",
    "         for x in range(2):\n",
    "             if(x == 0):\n",
    "                 L_in = self.input_layer_size\n",
    "                 L_out = self.hidden_layer_size\n",
    "             if(x == 1):\n",
    "                 L_in = self.hidden_layer_size\n",
    "                 L_out = self.output_layer_size\n",
    "             self.epsilon.append(math.sqrt(6) / math.sqrt(L_in + L_out))\n",
    "            \n",
    "         X_bias = self.input_layer_size + 1\n",
    "            \n",
    "         self.theta1 = (np.random.rand(self.hidden_layer_size,\n",
    "                         self.input_layer_size + 1) * (2 * self.epsilon[0])\n",
    "                       - self.epsilon[0])\n",
    "         self.theta2 = (np.random.rand(self.output_layer_size,\n",
    "                         self.hidden_layer_size + 1) * (2 * self.epsilon[1])\n",
    "                       - self.epsilon[1]) \n",
    "        #self.theta1 = np.random.randn(self.hidden_layer_size, self.input_layer_size+1)\n",
    "        #self.theta2 = np.random.randn(self.output_layer_size, self.hidden_layer_size+1)\n",
    "    \n",
    "    \n",
    "    def sigmoid(self,z):        \n",
    "        g = 1.0 / (1.0 + np.exp(-z))\n",
    "        return g\n",
    "    \n",
    "    def nnCostFunction(self,X,y):\n",
    "        \n",
    "        a1 = np.insert(X, 0, 1, axis=1)\n",
    "        \n",
    "        z2 = np.dot(a1, self.theta1.T)\n",
    "        \n",
    "        a2 = self.sigmoid(z2)\n",
    "        \n",
    "        a2 = np.insert(a2, 0, 1, axis=1)\n",
    "        \n",
    "        z3 = np.dot(a2, self.theta2.T)\n",
    "        \n",
    "        a3 = self.sigmoid(z3)\n",
    "        print(a3.shape,\"Here\")\n",
    "        print(a3[0][:])\n",
    "        \n",
    "#         yMatrix = (np.tile([y for y in range(10)], (self.m, 1) ) = \n",
    "#         np.tile(y, (1,self.num_labels) ))\n",
    "\n",
    "        numLabels_temp = np.tile([y for y in range(10)], (self.m, 1) )\n",
    "        \n",
    "        yMatrix_temp = np.tile(y, (1,self.num_labels) )\n",
    "        \n",
    "        yMatrix = np.equal(numLabels_temp, yMatrix_temp)\n",
    "        #print( (yMatrix * ((np.log(a3)))).shape, \"First\" )\n",
    "        #print( (((1 - yMatrix.T).T * np.log(1 - a3))).shape )\n",
    "        cost =  ( (yMatrix * (np.log(a3)) ) + ((1 - yMatrix.T).T * np.log(1 - a3)) )\n",
    "        #print(yMatrix.shape, (np.log(a3)).shape, \"Here\" )\n",
    "        print(cost.shape,\"Cost\")\n",
    "        print(cost[0])\n",
    "        \n",
    "        #Back Prop\n",
    "        delta1 = 0;\n",
    "        delta2 = 0; \n",
    "        \n",
    "        \n",
    "        \n",
    "        \n",
    "\n",
    "\n",
    "        "
   ]
  },
  {
   "cell_type": "code",
   "execution_count": 37,
   "metadata": {},
   "outputs": [
    {
     "name": "stdout",
     "output_type": "stream",
     "text": [
      "<class 'numpy.ndarray'>\n",
      "(1, 42000)\n",
      "(42000, 10) Here\n",
      "[0.75841304 0.73326583 0.24585107 0.12168869 0.63730202 0.16260906\n",
      " 0.70002752 0.44069423 0.52938073 0.27915642]\n",
      "(42000, 10) Cost\n",
      "[-1.4205258  -0.31024698 -0.28216541 -0.12975418 -1.01418481 -0.17746425\n",
      " -1.20406455 -0.58105896 -0.75370586 -0.32733312]\n"
     ]
    }
   ],
   "source": [
    "nn = Neural_Network()\n",
    "nn.randInit()\n",
    "print(type(y_train))\n",
    "print(y_train.shape)\n",
    "nn.nnCostFunction(X_train,np.transpose(y_train))"
   ]
  }
 ],
 "metadata": {
  "kernelspec": {
   "display_name": "Python 3",
   "language": "python",
   "name": "python3"
  },
  "language_info": {
   "codemirror_mode": {
    "name": "ipython",
    "version": 3
   },
   "file_extension": ".py",
   "mimetype": "text/x-python",
   "name": "python",
   "nbconvert_exporter": "python",
   "pygments_lexer": "ipython3",
   "version": "3.6.3"
  }
 },
 "nbformat": 4,
 "nbformat_minor": 2
}
