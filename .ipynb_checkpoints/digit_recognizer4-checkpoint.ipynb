{
 "cells": [
  {
   "cell_type": "code",
   "execution_count": 6,
   "metadata": {},
   "outputs": [],
   "source": [
    "# Plot ad hoc mnist instances\n",
    "import pandas as pd\n",
    "import matplotlib.pyplot as plt\n",
    "from numpy import genfromtxt\n",
    "import numpy as np\n",
    "import pandas as pd\n",
    "import time\n",
    "import random"
   ]
  },
  {
   "cell_type": "code",
   "execution_count": 7,
   "metadata": {
    "scrolled": true
   },
   "outputs": [],
   "source": [
    "# load (downloaded if needed) the MNIST dataset\n",
    "train = pd.read_csv('./datasets/train.csv')\n",
    "test = pd.read_csv('./datasets/test.csv')\n",
    "#y_train = np.array(df['label'].values)\n",
    "#print(y_train)\n",
    "k = 0\n",
    "X_train = (train.iloc[:,1:].values.astype('float32'))\n",
    "y_train = train.iloc[:,0].values.astype('int32')\n",
    "X_test = test.values.astype('float32')\n",
    "X_train = X_train.reshape(X_train.shape[0], 28, 28)\n",
    "#net = NeuralNet([784, 30, 10])\n",
    "\n",
    "X_train_set = []\n"
   ]
  },
  {
   "cell_type": "raw",
   "metadata": {},
   "source": [
    "print((train.loc[1,:].values))\n",
    "print(type(X_train[2]))\n",
    "print(y_train[2])\n",
    "Matrix = [[0 for x in range(w)] for y in range(h)] \n",
    "print(Matrix)"
   ]
  },
  {
   "cell_type": "code",
   "execution_count": 8,
   "metadata": {
    "scrolled": true
   },
   "outputs": [
    {
     "name": "stdout",
     "output_type": "stream",
     "text": [
      "42000\n",
      "0 \n",
      "\n",
      "1 \n",
      "\n",
      "<class 'numpy.ndarray'>\n",
      "<class 'tuple'>\n"
     ]
    }
   ],
   "source": [
    "#print((train.loc[1,1:].values))\n",
    "#print(type(X_train[2]))\n",
    "#print(y_train[2])\n",
    "print(len(train))\n",
    "pixels = []\n",
    "#train.tolist()\n",
    "for i in range(2):\n",
    "    #temp = [train.loc[i+1,:].values,\"\\n\\n\")\n",
    "    seq = (train.loc[i+1,:].values).tolist()\n",
    "    pixels.append(np.asarray([seq[x:x+1] for x in range(0,len(seq),1)]))\n",
    "    print(i,\"\\n\")\n",
    "print(type((pixels[0])))\n",
    "for i in range(2):\n",
    "    vec = []\n",
    "    num = y_train[i]\n",
    "    #print(num)\n",
    "    for x in range(10):\n",
    "        if(x == num):\n",
    "            vec.append(1)\n",
    "        else:\n",
    "            vec.append(0)\n",
    "    #print(vec)\n",
    "    digit = np.asarray([vec[x:x+1] for x in range(0,len(vec),1)])\n",
    "    #print(digit,\"\\n\")\n",
    "    temp = tuple(np.array([pixels[i],digit]))\n",
    "    \n",
    "    X_train_set.append(temp)\n",
    "    \n",
    "#Matrix = [[0 for x in range(10)] for y in range(20)] \n",
    "#print(Matrix)\n",
    "print(type(X_train_set[0]))"
   ]
  },
  {
   "cell_type": "code",
   "execution_count": 12,
   "metadata": {},
   "outputs": [
    {
     "ename": "TypeError",
     "evalue": "'tuple' object is not callable",
     "output_type": "error",
     "traceback": [
      "\u001b[1;31m---------------------------------------------------------------------------\u001b[0m",
      "\u001b[1;31mTypeError\u001b[0m                                 Traceback (most recent call last)",
      "\u001b[1;32m<ipython-input-12-316fc44eebf4>\u001b[0m in \u001b[0;36m<module>\u001b[1;34m()\u001b[0m\n\u001b[0;32m     15\u001b[0m     \u001b[0mX_test_set\u001b[0m\u001b[1;33m.\u001b[0m\u001b[0mappend\u001b[0m\u001b[1;33m(\u001b[0m\u001b[0mtemp\u001b[0m\u001b[1;33m)\u001b[0m\u001b[1;33m\u001b[0m\u001b[0m\n\u001b[0;32m     16\u001b[0m \u001b[1;33m\u001b[0m\u001b[0m\n\u001b[1;32m---> 17\u001b[1;33m \u001b[0mprint\u001b[0m\u001b[1;33m(\u001b[0m\u001b[0mX_test_set\u001b[0m\u001b[1;33m[\u001b[0m\u001b[1;36m0\u001b[0m\u001b[1;33m]\u001b[0m\u001b[1;33m(\u001b[0m\u001b[1;36m0\u001b[0m\u001b[1;33m)\u001b[0m\u001b[1;33m)\u001b[0m\u001b[1;33m\u001b[0m\u001b[0m\n\u001b[0m",
      "\u001b[1;31mTypeError\u001b[0m: 'tuple' object is not callable"
     ]
    }
   ],
   "source": [
    "'''\n",
    "Converting the test data to the appropriate format where the value of every pixel for each picture is in \n",
    "a list and each picture set is in a tuple\n",
    "'''\n",
    "\n",
    "X_test_set = []\n",
    "pixels = []\n",
    "#train.tolist()\n",
    "for i in range(2):\n",
    "    #temp = [train.loc[i+1,:].values,\"\\n\\n\")\n",
    "    seq = (train.loc[i+1,:].values).tolist()\n",
    "    pixels.append(np.asarray([seq[x:x+1] for x in range(0,len(seq),1)]))\n",
    "    \n",
    "    temp = tuple([pixels[i]])\n",
    "    X_test_set.append(temp)\n",
    "    \n",
    "print(X_test_set[0]"
   ]
  }
 ],
 "metadata": {
  "kernelspec": {
   "display_name": "Python 3",
   "language": "python",
   "name": "python3"
  },
  "language_info": {
   "codemirror_mode": {
    "name": "ipython",
    "version": 3
   },
   "file_extension": ".py",
   "mimetype": "text/x-python",
   "name": "python",
   "nbconvert_exporter": "python",
   "pygments_lexer": "ipython3",
   "version": "3.6.4"
  }
 },
 "nbformat": 4,
 "nbformat_minor": 2
}
