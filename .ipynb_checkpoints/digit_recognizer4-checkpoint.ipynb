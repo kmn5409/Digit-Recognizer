{
 "cells": [
  {
   "cell_type": "code",
   "execution_count": 9,
   "metadata": {},
   "outputs": [],
   "source": [
    "# Plot ad hoc mnist instances\n",
    "import pandas as pd\n",
    "import matplotlib.pyplot as plt\n",
    "from numpy import genfromtxt\n",
    "import numpy as np\n",
    "import pandas as pd\n",
    "import time\n",
    "import random"
   ]
  },
  {
   "cell_type": "code",
   "execution_count": 10,
   "metadata": {
    "scrolled": true
   },
   "outputs": [],
   "source": [
    "# load (downloaded if needed) the MNIST dataset\n",
    "train = pd.read_csv('./datasets/train.csv')\n",
    "test = pd.read_csv('./datasets/test.csv')\n",
    "#y_train = np.array(df['label'].values)\n",
    "#print(y_train)\n",
    "k = 0\n",
    "X_train = (train.iloc[:,1:].values.astype('float32'))\n",
    "y_train = train.iloc[:,0].values.astype('int32')\n",
    "X_test = test.values.astype('float32')\n",
    "X_train = X_train.reshape(X_train.shape[0], 28, 28)\n",
    "#net = NeuralNet([784, 30, 10])\n",
    "\n",
    "X_train_set = []\n"
   ]
  },
  {
   "cell_type": "raw",
   "metadata": {},
   "source": [
    "print((train.loc[1,:].values))\n",
    "print(type(X_train[2]))\n",
    "print(y_train[2])\n",
    "Matrix = [[0 for x in range(w)] for y in range(h)] \n",
    "print(Matrix)"
   ]
  },
  {
   "cell_type": "code",
   "execution_count": 23,
   "metadata": {
    "scrolled": true
   },
   "outputs": [
    {
     "name": "stdout",
     "output_type": "stream",
     "text": [
      "42000\n",
      "0 \n",
      "\n",
      "1 \n",
      "\n",
      "<class 'numpy.ndarray'>\n"
     ]
    }
   ],
   "source": [
    "#print((train.loc[1,1:].values))\n",
    "#print(type(X_train[2]))\n",
    "#print(y_train[2])\n",
    "print(len(train))\n",
    "pixels = []\n",
    "#train.tolist()\n",
    "for i in range(2):\n",
    "    #temp = [train.loc[i+1,:].values,\"\\n\\n\")\n",
    "    seq = (train.loc[i+1,:].values).tolist()\n",
    "    pixels.append(np.asarray([seq[x:x+1] for x in range(0,len(seq),1)]))\n",
    "    print(i,\"\\n\")\n",
    "print(type((pixels[0])))\n",
    "for i in range(2):\n",
    "    vec = []\n",
    "    num = y_train[i]\n",
    "    #print(num)\n",
    "    for x in range(10):\n",
    "        if(x == num):\n",
    "            vec.append(1)\n",
    "        else:\n",
    "            vec.append(0)\n",
    "    #print(vec)\n",
    "    digit = np.asarray([vec[x:x+1] for x in range(0,len(vec),1)])\n",
    "    #print(digit,\"\\n\")\n",
    "    temp = tuple(np.array([pixels[i],digit]))\n",
    "    \n",
    "    X_train_set.append(temp)\n",
    "    \n",
    "#Matrix = [[0 for x in range(10)] for y in range(20)] \n",
    "#print(Matrix)"
   ]
  },
  {
   "cell_type": "code",
   "execution_count": 32,
   "metadata": {},
   "outputs": [
    {
     "name": "stdout",
     "output_type": "stream",
     "text": [
      "(array([0]), array([0]), array([0]), array([0]), array([0]), array([0]), array([0]), array([0]), array([0]), array([0]), array([0]), array([0]), array([0]), array([0]), array([0]), array([0]), array([0]), array([0]), array([0]), array([0]), array([0]), array([0]), array([0]), array([0]), array([0]), array([0]), array([0]), array([0]), array([0]), array([0]), array([0]), array([0]), array([0]), array([0]), array([0]), array([0]), array([0]), array([0]), array([0]), array([0]), array([0]), array([0]), array([0]), array([0]), array([0]), array([0]), array([0]), array([0]), array([0]), array([0]), array([0]), array([0]), array([0]), array([0]), array([0]), array([0]), array([0]), array([0]), array([0]), array([0]), array([0]), array([0]), array([0]), array([0]), array([0]), array([0]), array([0]), array([0]), array([0]), array([0]), array([0]), array([0]), array([0]), array([0]), array([0]), array([0]), array([0]), array([0]), array([0]), array([0]), array([0]), array([0]), array([0]), array([0]), array([0]), array([0]), array([0]), array([0]), array([0]), array([0]), array([0]), array([0]), array([0]), array([0]), array([0]), array([0]), array([0]), array([0]), array([0]), array([0]), array([0]), array([0]), array([0]), array([0]), array([0]), array([0]), array([0]), array([0]), array([0]), array([0]), array([0]), array([0]), array([0]), array([0]), array([0]), array([0]), array([0]), array([0]), array([0]), array([0]), array([0]), array([0]), array([0]), array([0]), array([0]), array([0]), array([0]), array([0]), array([0]), array([0]), array([0]), array([0]), array([0]), array([0]), array([0]), array([0]), array([0]), array([0]), array([0]), array([0]), array([0]), array([0]), array([0]), array([0]), array([0]), array([0]), array([0]), array([0]), array([0]), array([0]), array([0]), array([0]), array([0]), array([0]), array([0]), array([0]), array([0]), array([0]), array([0]), array([0]), array([0]), array([0]), array([0]), array([0]), array([0]), array([0]), array([0]), array([0]), array([0]), array([0]), array([0]), array([0]), array([0]), array([0]), array([0]), array([0]), array([0]), array([0]), array([0]), array([29]), array([85]), array([85]), array([85]), array([85]), array([85]), array([85]), array([85]), array([85]), array([71]), array([0]), array([0]), array([0]), array([0]), array([0]), array([0]), array([0]), array([0]), array([0]), array([0]), array([0]), array([0]), array([0]), array([0]), array([0]), array([0]), array([107]), array([128]), array([168]), array([250]), array([250]), array([250]), array([252]), array([250]), array([250]), array([250]), array([250]), array([231]), array([127]), array([63]), array([0]), array([0]), array([0]), array([0]), array([0]), array([0]), array([0]), array([0]), array([0]), array([0]), array([0]), array([0]), array([85]), array([168]), array([237]), array([252]), array([250]), array([250]), array([250]), array([250]), array([252]), array([250]), array([250]), array([250]), array([250]), array([252]), array([250]), array([209]), array([56]), array([0]), array([0]), array([0]), array([0]), array([0]), array([0]), array([0]), array([0]), array([0]), array([0]), array([0]), array([127]), array([250]), array([250]), array([252]), array([250]), array([250]), array([250]), array([250]), array([252]), array([250]), array([250]), array([250]), array([250]), array([252]), array([250]), array([250]), array([83]), array([0]), array([0]), array([0]), array([0]), array([0]), array([0]), array([0]), array([0]), array([0]), array([8]), array([113]), array([252]), array([252]), array([252]), array([247]), array([210]), array([210]), array([210]), array([210]), array([177]), array([0]), array([0]), array([0]), array([0]), array([43]), array([252]), array([252]), array([83]), array([0]), array([0]), array([0]), array([0]), array([0]), array([0]), array([0]), array([0]), array([0]), array([43]), array([250]), array([250]), array([250]), array([250]), array([210]), array([0]), array([0]), array([0]), array([0]), array([0]), array([0]), array([0]), array([0]), array([0]), array([28]), array([194]), array([250]), array([138]), array([14]), array([0]), array([0]), array([0]), array([0]), array([0]), array([0]), array([0]), array([0]), array([43]), array([250]), array([250]), array([250]), array([250]), array([210]), array([0]), array([0]), array([0]), array([0]), array([0]), array([0]), array([0]), array([0]), array([0]), array([0]), array([85]), array([250]), array([250]), array([41]), array([0]), array([0]), array([0]), array([0]), array([0]), array([0]), array([0]), array([0]), array([43]), array([250]), array([250]), array([137]), array([83]), array([70]), array([0]), array([0]), array([0]), array([0]), array([0]), array([0]), array([0]), array([0]), array([0]), array([0]), array([28]), array([167]), array([250]), array([41]), array([0]), array([0]), array([0]), array([0]), array([0]), array([0]), array([0]), array([0]), array([219]), array([250]), array([144]), array([14]), array([0]), array([0]), array([0]), array([0]), array([0]), array([0]), array([0]), array([0]), array([0]), array([0]), array([0]), array([0]), array([0]), array([127]), array([250]), array([217]), array([0]), array([0]), array([0]), array([0]), array([0]), array([0]), array([0]), array([0]), array([254]), array([238]), array([105]), array([0]), array([0]), array([0]), array([0]), array([0]), array([0]), array([0]), array([0]), array([0]), array([0]), array([0]), array([0]), array([0]), array([15]), array([148]), array([252]), array([252]), array([0]), array([0]), array([0]), array([0]), array([0]), array([0]), array([0]), array([0]), array([252]), array([166]), array([0]), array([0]), array([0]), array([0]), array([0]), array([0]), array([0]), array([0]), array([0]), array([0]), array([0]), array([0]), array([0]), array([85]), array([140]), array([250]), array([250]), array([179]), array([0]), array([0]), array([0]), array([0]), array([0]), array([0]), array([0]), array([0]), array([252]), array([208]), array([63]), array([0]), array([0]), array([0]), array([0]), array([0]), array([0]), array([0]), array([0]), array([0]), array([0]), array([85]), array([127]), array([252]), array([250]), array([250]), array([250]), array([41]), array([0]), array([0]), array([0]), array([0]), array([0]), array([0]), array([0]), array([0]), array([252]), array([250]), array([209]), array([56]), array([0]), array([0]), array([0]), array([0]), array([0]), array([141]), array([170]), array([168]), array([168]), array([223]), array([250]), array([252]), array([250]), array([250]), array([137]), array([14]), array([0]), array([0]), array([0]), array([0]), array([0]), array([0]), array([0]), array([0]), array([252]), array([250]), array([250]), array([223]), array([210]), array([212]), array([210]), array([210]), array([210]), array([244]), array([252]), array([250]), array([250]), array([250]), array([250]), array([252]), array([250]), array([144]), array([14]), array([0]), array([0]), array([0]), array([0]), array([0]), array([0]), array([0]), array([0]), array([0]), array([43]), array([252]), array([252]), array([252]), array([252]), array([254]), array([252]), array([252]), array([252]), array([252]), array([255]), array([252]), array([252]), array([252]), array([217]), array([177]), array([0]), array([0]), array([0]), array([0]), array([0]), array([0]), array([0]), array([0]), array([0]), array([0]), array([0]), array([0]), array([28]), array([166]), array([208]), array([250]), array([250]), array([252]), array([250]), array([250]), array([250]), array([250]), array([238]), array([166]), array([166]), array([166]), array([27]), array([0]), array([0]), array([0]), array([0]), array([0]), array([0]), array([0]), array([0]), array([0]), array([0]), array([0]), array([0]), array([0]), array([0]), array([0]), array([63]), array([125]), array([125]), array([146]), array([250]), array([250]), array([165]), array([125]), array([105]), array([0]), array([0]), array([0]), array([0]), array([0]), array([0]), array([0]), array([0]), array([0]), array([0]), array([0]), array([0]), array([0]), array([0]), array([0]), array([0]), array([0]), array([0]), array([0]), array([0]), array([0]), array([0]), array([14]), array([83]), array([83]), array([27]), array([0]), array([0]), array([0]), array([0]), array([0]), array([0]), array([0]), array([0]), array([0]), array([0]), array([0]), array([0]), array([0]), array([0]), array([0]), array([0]), array([0]), array([0]), array([0]), array([0]), array([0]), array([0]), array([0]), array([0]), array([0]), array([0]), array([0]), array([0]), array([0]), array([0]), array([0]), array([0]), array([0]), array([0]), array([0]), array([0]), array([0]), array([0]), array([0]), array([0]), array([0]), array([0]), array([0]), array([0]), array([0]), array([0]), array([0]), array([0]), array([0]), array([0]), array([0]), array([0]), array([0]), array([0]), array([0]), array([0]), array([0]), array([0]), array([0]), array([0]), array([0]), array([0]), array([0]), array([0]), array([0]), array([0]), array([0]), array([0]), array([0]), array([0]), array([0]), array([0]), array([0]), array([0]), array([0]), array([0]), array([0]), array([0]), array([0]), array([0]), array([0]), array([0]), array([0]), array([0]), array([0]), array([0]), array([0]), array([0]), array([0]), array([0]), array([0]), array([0]), array([0]), array([0]), array([0]), array([0]), array([0]), array([0]), array([0]), array([0]), array([0]), array([0]), array([0]), array([0]), array([0]), array([0]), array([0]), array([0]), array([0]), array([0]), array([0]), array([0]), array([0]), array([0]), array([0]), array([0]), array([0]), array([0]), array([0]), array([0]), array([0]), array([0]), array([0]), array([0]), array([0]), array([0]))\n"
     ]
    }
   ],
   "source": [
    "'''\n",
    "Converting the test data to the appropriate format where the value of every pixel for each picture is in \n",
    "a list and each picture set is in a tuple\n",
    "'''\n",
    "\n",
    "X_test_set = []\n",
    "\n",
    "for i in range(2):\n",
    "    seq = (test.loc[i+1,:].values).tolist()\n",
    "    picture = np.asarray([seq[x:x+1] for x in range(0,len(seq),1)])\n",
    "    X_test_set.append(tuple(picture))\n",
    "print(X_test_set[0])"
   ]
  }
 ],
 "metadata": {
  "kernelspec": {
   "display_name": "Python 3",
   "language": "python",
   "name": "python3"
  },
  "language_info": {
   "codemirror_mode": {
    "name": "ipython",
    "version": 3
   },
   "file_extension": ".py",
   "mimetype": "text/x-python",
   "name": "python",
   "nbconvert_exporter": "python",
   "pygments_lexer": "ipython3",
   "version": "3.6.4"
  }
 },
 "nbformat": 4,
 "nbformat_minor": 2
}
