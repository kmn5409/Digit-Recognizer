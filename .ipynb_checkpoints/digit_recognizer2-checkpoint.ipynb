{
 "cells": [
  {
   "cell_type": "code",
   "execution_count": 6,
   "metadata": {},
   "outputs": [],
   "source": [
    "# Plot ad hoc mnist instances\n",
    "import pandas as pd\n",
    "import matplotlib.pyplot as plt\n",
    "from numpy import genfromtxt\n",
    "import numpy as np\n",
    "import pandas as pd\n",
    "import time\n",
    "import random"
   ]
  },
  {
   "cell_type": "code",
   "execution_count": 7,
   "metadata": {
    "scrolled": true
   },
   "outputs": [],
   "source": [
    "# load (downloaded if needed) the MNIST dataset\n",
    "train = pd.read_csv('./datasets/train.csv')\n",
    "test = pd.read_csv('./datasets/test.csv')\n",
    "#y_train = np.array(df['label'].values)\n",
    "#print(y_train)\n",
    "k = 0\n",
    "X_train = (train.iloc[:,1:].values.astype('float32'))\n",
    "y_train = train.iloc[:,0].values.astype('int32')\n",
    "X_test = test.values.astype('float32')\n",
    "X_train = X_train.reshape(X_train.shape[0], 28, 28)\n",
    "# net = NeuralNet([784, 30, 10])\n",
    "\n"
   ]
  },
  {
   "cell_type": "raw",
   "metadata": {},
   "source": [
    "print((train.loc[1,:].values))\n",
    "print(type(X_train[2]))\n",
    "print(y_train[2])\n",
    "Matrix = [[0 for x in range(w)] for y in range(h)] \n",
    "print(Matrix)"
   ]
  },
  {
   "cell_type": "code",
   "execution_count": 8,
   "metadata": {},
   "outputs": [
    {
     "name": "stdout",
     "output_type": "stream",
     "text": [
      "42000\n",
      "0 \n",
      "\n",
      "1 \n",
      "\n",
      "<class 'numpy.ndarray'>\n",
      "[0, 1, 0, 0, 0, 0, 0, 0, 0, 0]\n",
      "[1, 0, 0, 0, 0, 0, 0, 0, 0, 0]\n",
      "[0, 1, 0, 0, 0, 0, 0, 0, 0, 0]\n",
      "[0, 0, 0, 0, 1, 0, 0, 0, 0, 0]\n"
     ]
    }
   ],
   "source": [
    "#print((train.loc[1,1:].values))\n",
    "#print(type(X_train[2]))\n",
    "#print(y_train[2])\n",
    "print(len(train))\n",
    "pixels = [[0] *784]*42000\n",
    "#train.tolist()\n",
    "for i in range(2):\n",
    "    #temp = [train.loc[i+1,:].values,\"\\n\\n\")\n",
    "    seq = (train.loc[i+1,:].values.astype('float32')).tolist()\n",
    "    pixels[i] = np.asarray([seq[x:x+1] for x in range(0,len(seq),1)])\n",
    "    print(i,\"\\n\")\n",
    "print(type(np.asarray(pixels[0])))\n",
    "for i in range(4):\n",
    "    vec = []\n",
    "    num = y_train[i]\n",
    "    #print(num)\n",
    "    for x in range(10):\n",
    "        if(x == num):\n",
    "            vec.append(1)\n",
    "        else:\n",
    "            vec.append(0)\n",
    "    print(vec)\n",
    "    \n",
    "#Matrix = [[0 for x in range(10)] for y in range(20)] \n",
    "#print(Matrix)"
   ]
  },
  {
   "cell_type": "code",
   "execution_count": null,
   "metadata": {},
   "outputs": [],
   "source": []
  }
 ],
 "metadata": {
  "kernelspec": {
   "display_name": "Python 3",
   "language": "python",
   "name": "python3"
  },
  "language_info": {
   "codemirror_mode": {
    "name": "ipython",
    "version": 3
   },
   "file_extension": ".py",
   "mimetype": "text/x-python",
   "name": "python",
   "nbconvert_exporter": "python",
   "pygments_lexer": "ipython3",
   "version": "3.6.4"
  }
 },
 "nbformat": 4,
 "nbformat_minor": 2
}
